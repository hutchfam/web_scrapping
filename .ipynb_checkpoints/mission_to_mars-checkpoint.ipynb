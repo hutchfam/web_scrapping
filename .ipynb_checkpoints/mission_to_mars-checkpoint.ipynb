{
 "cells": [
  {
   "cell_type": "code",
   "execution_count": 1,
   "metadata": {},
   "outputs": [],
   "source": [
    "from splinter import Browser\n",
    "from splinter.exceptions import ElementDoesNotExist\n",
    "from bs4 import BeautifulSoup as bs\n",
    "import bs4\n",
    "import pandas as pd\n",
    "import requests\n",
    "from pprint import pprint\n",
    "import urllib3"
   ]
  },
  {
   "cell_type": "code",
   "execution_count": 2,
   "metadata": {},
   "outputs": [
    {
     "name": "stderr",
     "output_type": "stream",
     "text": [
      "[WDM] - Current google-chrome version is 84.0.4147\n",
      "[WDM] - Get LATEST driver version for 84.0.4147\n",
      "[WDM] - Driver [C:\\Users\\jedi_\\.wdm\\drivers\\chromedriver\\win32\\84.0.4147.30\\chromedriver.exe] found in cache\n"
     ]
    },
    {
     "name": "stdout",
     "output_type": "stream",
     "text": [
      " \n"
     ]
    }
   ],
   "source": [
    "from webdriver_manager.chrome import ChromeDriverManager\n",
    "executable_path = {'executable_path': ChromeDriverManager().install()}\n",
    "browser = Browser('chrome', **executable_path)\n"
   ]
  },
  {
   "cell_type": "code",
   "execution_count": 3,
   "metadata": {},
   "outputs": [],
   "source": [
    "url = 'https://mars.nasa.gov/news/'\n",
    "browser.visit(url)"
   ]
  },
  {
   "cell_type": "code",
   "execution_count": 6,
   "metadata": {},
   "outputs": [
    {
     "name": "stdout",
     "output_type": "stream",
     "text": [
      "Follow NASA's Perseverance Rover in Real Time on Its Way to Mars\n",
      "\n",
      "A crisply rendered web application can show you where the agency's Mars 2020 mission is right now as it makes its way to the Red Planet for a Feb. 18, 2021, landing.\n"
     ]
    }
   ],
   "source": [
    "html = browser.html\n",
    "soup = bs(html, 'html.parser')\n",
    "article= soup.select_one(\"ul.item_list li.slide\")\n",
    "article.find('div', class_='content_title')\n",
    "title = article.find('div', class_='content_title').get_text()\n",
    "teaser = article.find('div', class_='article_teaser_body').get_text()\n",
    "print(title)\n",
    "print( )\n",
    "print(teaser)\n",
    "# title\n",
    "# #teaser\n"
   ]
  },
  {
   "cell_type": "code",
   "execution_count": 68,
   "metadata": {},
   "outputs": [
    {
     "name": "stderr",
     "output_type": "stream",
     "text": [
      "[WDM] - Current google-chrome version is 84.0.4147\n",
      "[WDM] - Get LATEST driver version for 84.0.4147\n",
      "[WDM] - Driver [C:\\Users\\jedi_\\.wdm\\drivers\\chromedriver\\win32\\84.0.4147.30\\chromedriver.exe] found in cache\n"
     ]
    },
    {
     "name": "stdout",
     "output_type": "stream",
     "text": [
      " \n"
     ]
    }
   ],
   "source": [
    "# from webdriver_manager.chrome import ChromeDriverManager\n",
    "# executable_path = {'executable_path': ChromeDriverManager().install()}\n",
    "# browser = Browser('chrome', **executable_path)"
   ]
  },
  {
   "cell_type": "code",
   "execution_count": 7,
   "metadata": {},
   "outputs": [],
   "source": [
    "url = \"https://www.jpl.nasa.gov/spaceimages/?search=&category=Mars\"\n",
    "browser.visit(url)\n",
    "# soup = BeautifulSoup(response.text, 'html.parser')"
   ]
  },
  {
   "cell_type": "code",
   "execution_count": 8,
   "metadata": {},
   "outputs": [
    {
     "data": {
      "text/plain": [
       "<a class=\"fancybox\" data-description=\"This image from NASAs Mars Odyssey shows part of Angustus Labyrinthus. The intersecting ridges were most likely formed due to tectonic activity.\" data-fancybox-group=\"images\" data-fancybox-href=\"/spaceimages/images/largesize/PIA24073_hires.jpg\" data-link=\"/spaceimages/details.php?id=PIA24073\" data-thumbnail=\"/spaceimages/images/wallpaper/PIA24073-640x350.jpg\" data-title=\"Angustus Labyrinthus - False Color\">\n",
       "<div class=\"image_and_description_container\">\n",
       "<div class=\"rollover_description\">\n",
       "<h3 class=\"release_date\">August 19, 2020</h3>\n",
       "<div class=\"item_tease_overlay\">Angustus Labyrinthus - False Color</div>\n",
       "<div class=\"overlay_arrow\">\n",
       "<img alt=\"more arrow\" src=\"/assets/images/overlay-arrow.png\"/>\n",
       "</div>\n",
       "</div>\n",
       "<div class=\"img\">\n",
       "<img alt=\"Angustus Labyrinthus - False Color\" class=\"thumb\" src=\"/spaceimages/images/wallpaper/PIA24073-640x350.jpg\" title=\"Angustus Labyrinthus - False Color\"/>\n",
       "</div>\n",
       "<div class=\"list_text_content\">\n",
       "<div class=\"article_teaser_body\">August 19, 2020</div>\n",
       "<div class=\"content_title\">\n",
       "\t\t\t\t\t\t\t\t\t\t  Angustus Labyrinthus - False Color\n",
       "\t\t\t\t\t\t\t\t\t\t</div>\n",
       "<div class=\"article_teaser_body\">\n",
       "\t\t\t\t\t\t\t\t\t\t  This image from NASAs Mars Odyssey shows part of Angustus Labyrinthus. The intersecting ridges were most likely formed due to tectonic activity.\n",
       "\t\t\t\t\t\t\t\t\t\t</div>\n",
       "</div>\n",
       "</div>\n",
       "</a>"
      ]
     },
     "execution_count": 8,
     "metadata": {},
     "output_type": "execute_result"
    }
   ],
   "source": [
    "html = browser.html\n",
    "soup = bs4.BeautifulSoup(html, 'html.parser')\n",
    "new_image= soup.select_one(\"ul.articles li.slide\")\n",
    "new_image.find('a', class_='fancybox')\n",
    "\n",
    "\n",
    "# recent_image = soup.find_all('a', class_=\"fancybox\")\n",
    "# recent_image"
   ]
  },
  {
   "cell_type": "code",
   "execution_count": 9,
   "metadata": {},
   "outputs": [
    {
     "name": "stdout",
     "output_type": "stream",
     "text": [
      "https://www.jpl.nasa.gov/spaceimages/images/largesize/PIA24073_hires.jpg\n"
     ]
    }
   ],
   "source": [
    "feature_img_url = f\"https://www.jpl.nasa.gov/spaceimages/images/largesize/PIA24073_hires.jpg\"\n",
    "print(feature_img_url)"
   ]
  },
  {
   "cell_type": "code",
   "execution_count": 105,
   "metadata": {},
   "outputs": [
    {
     "name": "stderr",
     "output_type": "stream",
     "text": [
      "[WDM] - Current google-chrome version is 84.0.4147\n",
      "[WDM] - Get LATEST driver version for 84.0.4147\n",
      "[WDM] - Driver [C:\\Users\\jedi_\\.wdm\\drivers\\chromedriver\\win32\\84.0.4147.30\\chromedriver.exe] found in cache\n"
     ]
    },
    {
     "name": "stdout",
     "output_type": "stream",
     "text": [
      " \n"
     ]
    }
   ],
   "source": [
    "# from webdriver_manager.chrome import ChromeDriverManager\n",
    "# executable_path = {'executable_path': ChromeDriverManager().install()}\n",
    "# browser = Browser('chrome', **executable_path)"
   ]
  },
  {
   "cell_type": "code",
   "execution_count": 10,
   "metadata": {},
   "outputs": [],
   "source": [
    "url = \"https://space-facts.com/mars/\"\n",
    "browser.visit(url)"
   ]
  },
  {
   "cell_type": "code",
   "execution_count": 11,
   "metadata": {},
   "outputs": [
    {
     "data": {
      "text/html": [
       "<div>\n",
       "<style scoped>\n",
       "    .dataframe tbody tr th:only-of-type {\n",
       "        vertical-align: middle;\n",
       "    }\n",
       "\n",
       "    .dataframe tbody tr th {\n",
       "        vertical-align: top;\n",
       "    }\n",
       "\n",
       "    .dataframe thead th {\n",
       "        text-align: right;\n",
       "    }\n",
       "</style>\n",
       "<table border=\"1\" class=\"dataframe\">\n",
       "  <thead>\n",
       "    <tr style=\"text-align: right;\">\n",
       "      <th></th>\n",
       "      <th>Mars/Earth Comparison Description</th>\n",
       "      <th>Mars Values</th>\n",
       "      <th>Earth Values</th>\n",
       "    </tr>\n",
       "  </thead>\n",
       "  <tbody>\n",
       "    <tr>\n",
       "      <th>0</th>\n",
       "      <td>Diameter:</td>\n",
       "      <td>6,779 km</td>\n",
       "      <td>12,742 km</td>\n",
       "    </tr>\n",
       "    <tr>\n",
       "      <th>1</th>\n",
       "      <td>Mass:</td>\n",
       "      <td>6.39 × 10^23 kg</td>\n",
       "      <td>5.97 × 10^24 kg</td>\n",
       "    </tr>\n",
       "    <tr>\n",
       "      <th>2</th>\n",
       "      <td>Moons:</td>\n",
       "      <td>2</td>\n",
       "      <td>1</td>\n",
       "    </tr>\n",
       "    <tr>\n",
       "      <th>3</th>\n",
       "      <td>Distance from Sun:</td>\n",
       "      <td>227,943,824 km</td>\n",
       "      <td>149,598,262 km</td>\n",
       "    </tr>\n",
       "    <tr>\n",
       "      <th>4</th>\n",
       "      <td>Length of Year:</td>\n",
       "      <td>687 Earth days</td>\n",
       "      <td>365.24 days</td>\n",
       "    </tr>\n",
       "    <tr>\n",
       "      <th>5</th>\n",
       "      <td>Temperature:</td>\n",
       "      <td>-87 to -5 °C</td>\n",
       "      <td>-88 to 58°C</td>\n",
       "    </tr>\n",
       "  </tbody>\n",
       "</table>\n",
       "</div>"
      ],
      "text/plain": [
       "  Mars/Earth Comparison Description      Mars Values     Earth Values\n",
       "0                         Diameter:         6,779 km        12,742 km\n",
       "1                             Mass:  6.39 × 10^23 kg  5.97 × 10^24 kg\n",
       "2                            Moons:                2                1\n",
       "3                Distance from Sun:   227,943,824 km   149,598,262 km\n",
       "4                   Length of Year:   687 Earth days      365.24 days\n",
       "5                      Temperature:     -87 to -5 °C      -88 to 58°C"
      ]
     },
     "execution_count": 11,
     "metadata": {},
     "output_type": "execute_result"
    }
   ],
   "source": [
    "# html = browser.html\n",
    "# soup = bs4.BeautifulSoup(html, 'html.parser')\n",
    "# facts= soup.select_one('div.textwidget tr.row')\n",
    "# facts.find('div', class_='textwidget')\n",
    "mars_earth_facts_df=pd.read_html(url)[1]\n",
    "#fact_table[1]\n",
    "mars_earth_facts_df.columns=[\"Mars/Earth Comparison Description\", \"Mars Values\", \"Earth Values\"]\n",
    "mars_earth_facts_df"
   ]
  },
  {
   "cell_type": "code",
   "execution_count": 12,
   "metadata": {},
   "outputs": [],
   "source": [
    "mars_earth_facts_html=\"mars_facts.html\"\n",
    "mars_earth_facts_df.to_html(mars_earth_facts_html)"
   ]
  },
  {
   "cell_type": "code",
   "execution_count": 13,
   "metadata": {},
   "outputs": [],
   "source": [
    "# from webdriver_manager.chrome import ChromeDriverManager\n",
    "# executable_path = {'executable_path': ChromeDriverManager().install()}\n",
    "# browser = Browser('chrome', **executable_path)"
   ]
  },
  {
   "cell_type": "code",
   "execution_count": 14,
   "metadata": {},
   "outputs": [],
   "source": [
    "url = \"https://astrogeology.usgs.gov/search/results?q=hemisphere+enhanced&k1=target&v1=Mars\"\n",
    "browser.visit(url)"
   ]
  },
  {
   "cell_type": "code",
   "execution_count": 91,
   "metadata": {},
   "outputs": [
    {
     "data": {
      "text/plain": [
       "[{'title': 'Cerberus Hemisphere Enhanced',\n",
       "  'img_url': 'https://astrogeology.usgs.gov/cache/images/f5e372a36edfa389625da6d0cc25d905_cerberus_enhanced.tif_full.jpg'},\n",
       " {'title': 'Schiaparelli Hemisphere Enhanced',\n",
       "  'img_url': 'https://astrogeology.usgs.gov/cache/images/3778f7b43bbbc89d6e3cfabb3613ba93_schiaparelli_enhanced.tif_full.jpg'},\n",
       " {'title': 'Syrtis Major Hemisphere Enhanced',\n",
       "  'img_url': 'https://astrogeology.usgs.gov/cache/images/555e6403a6ddd7ba16ddb0e471cadcf7_syrtis_major_enhanced.tif_full.jpg'},\n",
       " {'title': 'Valles Marineris Hemisphere Enhanced',\n",
       "  'img_url': 'https://astrogeology.usgs.gov/cache/images/b3c7c6c9138f57b4756be9b9c43e3a48_valles_marineris_enhanced.tif_full.jpg'}]"
      ]
     },
     "execution_count": 91,
     "metadata": {},
     "output_type": "execute_result"
    }
   ],
   "source": [
    "html=browser.html\n",
    "soup = BeautifulSoup(html, 'html.parser')\n",
    "images_to_find = soup.find_all('div', class_='item')\n",
    "mars_hemisphere_image_urls = []\n",
    "head_url = 'https://astrogeology.usgs.gov'\n",
    "#loop for images @ stack overflow and my mastering python/pandas book\n",
    "for itf in images_to_find:\n",
    "    title = itf.find('h3').text\n",
    "    mars_partial_img_url = itf.find('a', class_='itemLink product-item')['href']\n",
    "    browser.visit(head_url + mars_partial_img_url)\n",
    "    mars_partial_img_html = browser.html\n",
    "    soup = BeautifulSoup(mars_partial_img_html, 'html.parser')\n",
    "    img_url = hemispheres_main_url + soup.find('img', class_='wide-image')['src']\n",
    "    mars_hemisphere_image_urls.append({\"title\" : title, \"img_url\" : img_url})\n",
    "mars_hemisphere_image_urls"
   ]
  },
  {
   "cell_type": "code",
   "execution_count": null,
   "metadata": {},
   "outputs": [],
   "source": []
  }
 ],
 "metadata": {
  "kernelspec": {
   "display_name": "Python 3",
   "language": "python",
   "name": "python3"
  },
  "language_info": {
   "codemirror_mode": {
    "name": "ipython",
    "version": 3
   },
   "file_extension": ".py",
   "mimetype": "text/x-python",
   "name": "python",
   "nbconvert_exporter": "python",
   "pygments_lexer": "ipython3",
   "version": "3.6.10"
  }
 },
 "nbformat": 4,
 "nbformat_minor": 4
}
